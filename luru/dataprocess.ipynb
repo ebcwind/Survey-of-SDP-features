{
 "cells": [
  {
   "cell_type": "code",
   "execution_count": 2,
   "metadata": {
    "collapsed": true
   },
   "outputs": [],
   "source": [
    "import pandas as pd\n",
    "papername = pd.read_csv('papername.csv',encoding = 'utf-8')"
   ]
  },
  {
   "cell_type": "code",
   "execution_count": 3,
   "outputs": [
    {
     "data": {
      "text/plain": "      ID                                      Article Title  \\\n0      1  Predicting aging-related bugs using software c...   \n1      2  Influence of confirmation biases of developers...   \n2      3  A fuzzy classifier approach to estimating soft...   \n3      4        Using Software Dependency to Bug Prediction   \n4      5  A STUDY OF SOFTWARE METRIC SELECTION TECHNIQUE...   \n..   ...                                                ...   \n116  117  An Optimized Feature Selection Method Using En...   \n117  118  Feature Engineering to Heterogeneous Cross Sof...   \n118  119  Issues-Driven features for software fault pred...   \n119  120  Adaptive recurrent neural network for software...   \n120  121  Feature transfer learning by reinforcement lea...   \n\n                 prediction type                     dependency  \n0                Inter-release\\n                   defect-prone  \n1                Inter-release\\n                 defect-density  \n2                  Intra-release                 module quality  \n3                  Inter-release  defect-prone\\ndefect-severity  \n4                  Inter-release                   defect-prone  \n..                           ...                            ...  \n116                Intra-release                   defect-prone  \n117  Intra-release/Cross-project                   defect-prone  \n118                Inter-release                   defect-prone  \n119                Intra-release                   defect-prone  \n120                Intra-release                   defect-prone  \n\n[121 rows x 4 columns]",
      "text/html": "<div>\n<style scoped>\n    .dataframe tbody tr th:only-of-type {\n        vertical-align: middle;\n    }\n\n    .dataframe tbody tr th {\n        vertical-align: top;\n    }\n\n    .dataframe thead th {\n        text-align: right;\n    }\n</style>\n<table border=\"1\" class=\"dataframe\">\n  <thead>\n    <tr style=\"text-align: right;\">\n      <th></th>\n      <th>ID</th>\n      <th>Article Title</th>\n      <th>prediction type</th>\n      <th>dependency</th>\n    </tr>\n  </thead>\n  <tbody>\n    <tr>\n      <th>0</th>\n      <td>1</td>\n      <td>Predicting aging-related bugs using software c...</td>\n      <td>Inter-release\\n</td>\n      <td>defect-prone</td>\n    </tr>\n    <tr>\n      <th>1</th>\n      <td>2</td>\n      <td>Influence of confirmation biases of developers...</td>\n      <td>Inter-release\\n</td>\n      <td>defect-density</td>\n    </tr>\n    <tr>\n      <th>2</th>\n      <td>3</td>\n      <td>A fuzzy classifier approach to estimating soft...</td>\n      <td>Intra-release</td>\n      <td>module quality</td>\n    </tr>\n    <tr>\n      <th>3</th>\n      <td>4</td>\n      <td>Using Software Dependency to Bug Prediction</td>\n      <td>Inter-release</td>\n      <td>defect-prone\\ndefect-severity</td>\n    </tr>\n    <tr>\n      <th>4</th>\n      <td>5</td>\n      <td>A STUDY OF SOFTWARE METRIC SELECTION TECHNIQUE...</td>\n      <td>Inter-release</td>\n      <td>defect-prone</td>\n    </tr>\n    <tr>\n      <th>...</th>\n      <td>...</td>\n      <td>...</td>\n      <td>...</td>\n      <td>...</td>\n    </tr>\n    <tr>\n      <th>116</th>\n      <td>117</td>\n      <td>An Optimized Feature Selection Method Using En...</td>\n      <td>Intra-release</td>\n      <td>defect-prone</td>\n    </tr>\n    <tr>\n      <th>117</th>\n      <td>118</td>\n      <td>Feature Engineering to Heterogeneous Cross Sof...</td>\n      <td>Intra-release/Cross-project</td>\n      <td>defect-prone</td>\n    </tr>\n    <tr>\n      <th>118</th>\n      <td>119</td>\n      <td>Issues-Driven features for software fault pred...</td>\n      <td>Inter-release</td>\n      <td>defect-prone</td>\n    </tr>\n    <tr>\n      <th>119</th>\n      <td>120</td>\n      <td>Adaptive recurrent neural network for software...</td>\n      <td>Intra-release</td>\n      <td>defect-prone</td>\n    </tr>\n    <tr>\n      <th>120</th>\n      <td>121</td>\n      <td>Feature transfer learning by reinforcement lea...</td>\n      <td>Intra-release</td>\n      <td>defect-prone</td>\n    </tr>\n  </tbody>\n</table>\n<p>121 rows × 4 columns</p>\n</div>"
     },
     "execution_count": 3,
     "metadata": {},
     "output_type": "execute_result"
    }
   ],
   "source": [
    "papername"
   ],
   "metadata": {
    "collapsed": false
   }
  },
  {
   "cell_type": "code",
   "execution_count": 20,
   "outputs": [
    {
     "data": {
      "text/plain": "                                             Authors  \\\n0  Radjenovic, Danijel; Hericko, Marjan; Torkar, ...   \n1  Cotroneo, Domenico; Natella, Roberto; Pietrant...   \n2                    Calikli, Gul; Bener, Ayse Basar   \n3                                     Pizzi, Nick J.   \n4  Oyetoyan, Tosin Daniel; Cruzes, Daniela S.; Co...   \n\n                                       Article Title  \\\n0  Software fault prediction metrics: A systemati...   \n1  Predicting aging-related bugs using software c...   \n2  Influence of confirmation biases of developers...   \n3  A fuzzy classifier approach to estimating soft...   \n4  A study of cyclic dependencies on defect profi...   \n\n                          Source Title                           DOI  \\\n0  INFORMATION AND SOFTWARE TECHNOLOGY  10.1016/j.infsof.2013.02.009   \n1               PERFORMANCE EVALUATION    10.1016/j.peva.2012.09.004   \n2             SOFTWARE QUALITY JOURNAL     10.1007/s11219-012-9180-0   \n3                 INFORMATION SCIENCES     10.1016/j.ins.2013.04.027   \n4      JOURNAL OF SYSTEMS AND SOFTWARE     10.1016/j.jss.2013.07.039   \n\n   Publication Year                                           Abstract  \\\n0              2013  Context: Software metrics may be used in fault...   \n1              2013  Long-running software systems tend to show deg...   \n2              2013  The thought processes of people have a signifi...   \n3              2013  With the increasing sophistication of today's ...   \n4              2013  Background: Empirical evidence shows that depe...   \n\n   selection                                              notes  \\\n0          3  综述论文，对1991 ~ 2011年间发表的106篇论文进行系统的文献综述。所选论文根据指标...   \n1          3  本文旨在预测复杂软件系统中老化相关bug的位置，以便在测试过程中进行识别。首先，我们对三个大...   \n2          3           在这项研究中，我们提出了一个度量方案来探索开发人员确认偏差对软件缺陷密度的影响。   \n3          3   我们使用一个用于开发生物医学数据分析系统的复杂算法开发框架中的软件对象对这种方法进行了实证评估。   \n4          3  扩展的面向对象度量的使用能使我们更好地理解循环相关组件之间的关系及其缺陷倾向吗.我们扩展这样...   \n\n   Times Cited, WoS Core                                              背景/动机  \\\n0                  282.0  模型的表现取决于建模的技术和所用的度量，建模技术之间的性能差异似乎是差不多的[38,30,6...   \n1                   45.0  软件老化是发生在长时间运行的软件系统中的一种现象，随着运行时的增加，其故障率也会增加。这种现...   \n2                   21.0  由于软件是由人开发和测试的，人们的思维过程可能对软件缺陷密度有重要的影响。因此，考虑到人们的...   \n3                   16.0  有效的模式分类需要一个高效的分类器与协同的预处理和后处理策略的耦合。在分类问题中经常出现的情...   \n4                   17.0  经验证据表明，软件组件之间的依赖循环在现实生活中的软件系统中是普遍存在的，尽管已知这样的循环...   \n\n   ...                                              数据集大小          数据集是否公开  \\\n0  ...  大:多于250k行代码或1000个类\\n中:50k-250k或200-1000个类\\n小:少...      公开\\n半公开\\n私有   \n1  ...                                                  大               公开   \n2  ...  ERP 3199个文件\\nTelecom1 826  Telecom2 1481 Telec...               私有   \n3  ...                                             714个对象               公开   \n4  ...                                                NaN  commApp是商业，其他公开   \n\n  数据集所处的开发阶段        数据集编程语言                      建模技术       预测粒度  \\\n0     早期\\n完成      C++\\nJAVA                 随机森林\\n。。。   文件级\\n语句级   \n1         完成  C\\nC/C++\\nC++  朴素贝叶斯\\n贝叶斯网络\\n决策树\\n逻辑回归   文件级或者说模块级   \n2         完成           JAVA                     朴素贝叶斯        文件级   \n3         完成            C++              线性判别分析(LDA)[          类   \n4         完成    JAVA，后两个是C#                         无        类/包   \n\n                因变量                                               性能评估  \\\n0  故障数量\\n故障位置\\n故障密度                                                NaN   \n1              故障倾向  Probability of Detection (PD).\\nProbability of...   \n2              故障密度  Probability of Detection (pd)\\nProbability of ...   \n3              模块质量                                 P为正确分类的物体与物体总数的比值;   \n4              故障倾向                                                  无   \n\n                                                论文评价 Unnamed: 28  \n0                               系统总数，第一个系统评价软件度量的论文，         NaN  \n1                                                NaN         NaN  \n2  软件故障预测应考虑人为因素的影响，人类思考对软件的作用，确认偏差指标被认为是与静态和chur...         NaN  \n3  证明了其特征选择的优越性，排除了混淆特征，减少特征数量，增加了软件质量分类的准确性，但是所用...         NaN  \n4    只是论证了循环度量和故障倾向有显著的关系，但是没有和其他度量对比，无法直到这个关系到底谁打谁小         NaN  \n\n[5 rows x 29 columns]",
      "text/html": "<div>\n<style scoped>\n    .dataframe tbody tr th:only-of-type {\n        vertical-align: middle;\n    }\n\n    .dataframe tbody tr th {\n        vertical-align: top;\n    }\n\n    .dataframe thead th {\n        text-align: right;\n    }\n</style>\n<table border=\"1\" class=\"dataframe\">\n  <thead>\n    <tr style=\"text-align: right;\">\n      <th></th>\n      <th>Authors</th>\n      <th>Article Title</th>\n      <th>Source Title</th>\n      <th>DOI</th>\n      <th>Publication Year</th>\n      <th>Abstract</th>\n      <th>selection</th>\n      <th>notes</th>\n      <th>Times Cited, WoS Core</th>\n      <th>背景/动机</th>\n      <th>...</th>\n      <th>数据集大小</th>\n      <th>数据集是否公开</th>\n      <th>数据集所处的开发阶段</th>\n      <th>数据集编程语言</th>\n      <th>建模技术</th>\n      <th>预测粒度</th>\n      <th>因变量</th>\n      <th>性能评估</th>\n      <th>论文评价</th>\n      <th>Unnamed: 28</th>\n    </tr>\n  </thead>\n  <tbody>\n    <tr>\n      <th>0</th>\n      <td>Radjenovic, Danijel; Hericko, Marjan; Torkar, ...</td>\n      <td>Software fault prediction metrics: A systemati...</td>\n      <td>INFORMATION AND SOFTWARE TECHNOLOGY</td>\n      <td>10.1016/j.infsof.2013.02.009</td>\n      <td>2013</td>\n      <td>Context: Software metrics may be used in fault...</td>\n      <td>3</td>\n      <td>综述论文，对1991 ~ 2011年间发表的106篇论文进行系统的文献综述。所选论文根据指标...</td>\n      <td>282.0</td>\n      <td>模型的表现取决于建模的技术和所用的度量，建模技术之间的性能差异似乎是差不多的[38,30,6...</td>\n      <td>...</td>\n      <td>大:多于250k行代码或1000个类\\n中:50k-250k或200-1000个类\\n小:少...</td>\n      <td>公开\\n半公开\\n私有</td>\n      <td>早期\\n完成</td>\n      <td>C++\\nJAVA</td>\n      <td>随机森林\\n。。。</td>\n      <td>文件级\\n语句级</td>\n      <td>故障数量\\n故障位置\\n故障密度</td>\n      <td>NaN</td>\n      <td>系统总数，第一个系统评价软件度量的论文，</td>\n      <td>NaN</td>\n    </tr>\n    <tr>\n      <th>1</th>\n      <td>Cotroneo, Domenico; Natella, Roberto; Pietrant...</td>\n      <td>Predicting aging-related bugs using software c...</td>\n      <td>PERFORMANCE EVALUATION</td>\n      <td>10.1016/j.peva.2012.09.004</td>\n      <td>2013</td>\n      <td>Long-running software systems tend to show deg...</td>\n      <td>3</td>\n      <td>本文旨在预测复杂软件系统中老化相关bug的位置，以便在测试过程中进行识别。首先，我们对三个大...</td>\n      <td>45.0</td>\n      <td>软件老化是发生在长时间运行的软件系统中的一种现象，随着运行时的增加，其故障率也会增加。这种现...</td>\n      <td>...</td>\n      <td>大</td>\n      <td>公开</td>\n      <td>完成</td>\n      <td>C\\nC/C++\\nC++</td>\n      <td>朴素贝叶斯\\n贝叶斯网络\\n决策树\\n逻辑回归</td>\n      <td>文件级或者说模块级</td>\n      <td>故障倾向</td>\n      <td>Probability of Detection (PD).\\nProbability of...</td>\n      <td>NaN</td>\n      <td>NaN</td>\n    </tr>\n    <tr>\n      <th>2</th>\n      <td>Calikli, Gul; Bener, Ayse Basar</td>\n      <td>Influence of confirmation biases of developers...</td>\n      <td>SOFTWARE QUALITY JOURNAL</td>\n      <td>10.1007/s11219-012-9180-0</td>\n      <td>2013</td>\n      <td>The thought processes of people have a signifi...</td>\n      <td>3</td>\n      <td>在这项研究中，我们提出了一个度量方案来探索开发人员确认偏差对软件缺陷密度的影响。</td>\n      <td>21.0</td>\n      <td>由于软件是由人开发和测试的，人们的思维过程可能对软件缺陷密度有重要的影响。因此，考虑到人们的...</td>\n      <td>...</td>\n      <td>ERP 3199个文件\\nTelecom1 826  Telecom2 1481 Telec...</td>\n      <td>私有</td>\n      <td>完成</td>\n      <td>JAVA</td>\n      <td>朴素贝叶斯</td>\n      <td>文件级</td>\n      <td>故障密度</td>\n      <td>Probability of Detection (pd)\\nProbability of ...</td>\n      <td>软件故障预测应考虑人为因素的影响，人类思考对软件的作用，确认偏差指标被认为是与静态和chur...</td>\n      <td>NaN</td>\n    </tr>\n    <tr>\n      <th>3</th>\n      <td>Pizzi, Nick J.</td>\n      <td>A fuzzy classifier approach to estimating soft...</td>\n      <td>INFORMATION SCIENCES</td>\n      <td>10.1016/j.ins.2013.04.027</td>\n      <td>2013</td>\n      <td>With the increasing sophistication of today's ...</td>\n      <td>3</td>\n      <td>我们使用一个用于开发生物医学数据分析系统的复杂算法开发框架中的软件对象对这种方法进行了实证评估。</td>\n      <td>16.0</td>\n      <td>有效的模式分类需要一个高效的分类器与协同的预处理和后处理策略的耦合。在分类问题中经常出现的情...</td>\n      <td>...</td>\n      <td>714个对象</td>\n      <td>公开</td>\n      <td>完成</td>\n      <td>C++</td>\n      <td>线性判别分析(LDA)[</td>\n      <td>类</td>\n      <td>模块质量</td>\n      <td>P为正确分类的物体与物体总数的比值;</td>\n      <td>证明了其特征选择的优越性，排除了混淆特征，减少特征数量，增加了软件质量分类的准确性，但是所用...</td>\n      <td>NaN</td>\n    </tr>\n    <tr>\n      <th>4</th>\n      <td>Oyetoyan, Tosin Daniel; Cruzes, Daniela S.; Co...</td>\n      <td>A study of cyclic dependencies on defect profi...</td>\n      <td>JOURNAL OF SYSTEMS AND SOFTWARE</td>\n      <td>10.1016/j.jss.2013.07.039</td>\n      <td>2013</td>\n      <td>Background: Empirical evidence shows that depe...</td>\n      <td>3</td>\n      <td>扩展的面向对象度量的使用能使我们更好地理解循环相关组件之间的关系及其缺陷倾向吗.我们扩展这样...</td>\n      <td>17.0</td>\n      <td>经验证据表明，软件组件之间的依赖循环在现实生活中的软件系统中是普遍存在的，尽管已知这样的循环...</td>\n      <td>...</td>\n      <td>NaN</td>\n      <td>commApp是商业，其他公开</td>\n      <td>完成</td>\n      <td>JAVA，后两个是C#</td>\n      <td>无</td>\n      <td>类/包</td>\n      <td>故障倾向</td>\n      <td>无</td>\n      <td>只是论证了循环度量和故障倾向有显著的关系，但是没有和其他度量对比，无法直到这个关系到底谁打谁小</td>\n      <td>NaN</td>\n    </tr>\n  </tbody>\n</table>\n<p>5 rows × 29 columns</p>\n</div>"
     },
     "execution_count": 20,
     "metadata": {},
     "output_type": "execute_result"
    }
   ],
   "source": [
    "data.head(5)"
   ],
   "metadata": {
    "collapsed": false
   }
  },
  {
   "cell_type": "code",
   "execution_count": 21,
   "outputs": [
    {
     "name": "stdout",
     "output_type": "stream",
     "text": [
      "<class 'pandas.core.frame.DataFrame'>\n",
      "RangeIndex: 141 entries, 0 to 140\n",
      "Data columns (total 29 columns):\n",
      " #   Column                   Non-Null Count  Dtype  \n",
      "---  ------                   --------------  -----  \n",
      " 0   Authors                  141 non-null    object \n",
      " 1   Article Title            141 non-null    object \n",
      " 2   Source Title             141 non-null    object \n",
      " 3   DOI                      139 non-null    object \n",
      " 4   Publication Year         141 non-null    int64  \n",
      " 5   Abstract                 141 non-null    object \n",
      " 6   selection                141 non-null    int64  \n",
      " 7   notes                    141 non-null    object \n",
      " 8   Times Cited, WoS Core    139 non-null    float64\n",
      " 9   背景/动机                    140 non-null    object \n",
      " 10  目的/研究问题                  140 non-null    object \n",
      " 11  结果                       139 non-null    object \n",
      " 12  前人的相关工作                  45 non-null     object \n",
      " 13  预测方式                     127 non-null    object \n",
      " 14  软件度量/特征                  130 non-null    object \n",
      " 15  度量/特征选择方法                83 non-null     object \n",
      " 16  度量/特征处理方法                51 non-null     object \n",
      " 17  是否有报告称软件故障预测的指标显著优于其他指标  91 non-null     object \n",
      " 18  数据集                      132 non-null    object \n",
      " 19  数据集大小                    126 non-null    object \n",
      " 20  数据集是否公开                  131 non-null    object \n",
      " 21  数据集所处的开发阶段               131 non-null    object \n",
      " 22  数据集编程语言                  132 non-null    object \n",
      " 23  建模技术                     130 non-null    object \n",
      " 24  预测粒度                     128 non-null    object \n",
      " 25  因变量                      129 non-null    object \n",
      " 26  性能评估                     129 non-null    object \n",
      " 27  论文评价                     55 non-null     object \n",
      " 28  Unnamed: 28              1 non-null      object \n",
      "dtypes: float64(1), int64(2), object(26)\n",
      "memory usage: 32.1+ KB\n"
     ]
    }
   ],
   "source": [
    "data.info()"
   ],
   "metadata": {
    "collapsed": false
   }
  },
  {
   "cell_type": "code",
   "execution_count": 22,
   "outputs": [],
   "source": [
    "data = data.drop('Unnamed: 28',axis=1)"
   ],
   "metadata": {
    "collapsed": false
   }
  },
  {
   "cell_type": "code",
   "execution_count": 25,
   "outputs": [],
   "source": [
    "data = data[data['notes'].str.contains('综述'or'调查')]"
   ],
   "metadata": {
    "collapsed": false
   }
  },
  {
   "cell_type": "code",
   "execution_count": null,
   "outputs": [],
   "source": [],
   "metadata": {
    "collapsed": false
   }
  },
  {
   "cell_type": "code",
   "execution_count": 26,
   "outputs": [
    {
     "data": {
      "text/plain": "                                               Authors  \\\n0    Radjenovic, Danijel; Hericko, Marjan; Torkar, ...   \n53                 Rathore, Santosh S.; Kumar, Sandeep   \n56   Le Hoang Son; Pritam, Nakul; Khari, Manju; Kum...   \n99   Tahir, Amjed; Bennin, Kwabena E.; Xiao, Xun; M...   \n125                  Nevendra, Meetesh; Singh, Pradeep   \n135  Bhandari, Kirti; Kumar, Kuldeep; Sangal, Amrit...   \n136  Giray, Gorkem; Bennin, Kwabena Ebo; Koksal, Om...   \n\n                                         Article Title  \\\n0    Software fault prediction metrics: A systemati...   \n53     A study on software fault prediction techniques   \n56   Empirical Study of Software Defect Prediction:...   \n99   Does class size matter? An in-depth assessment...   \n125  A Survey of Software Defect Prediction Based o...   \n135  Data quality issues in software fault predicti...   \n136  On the use of deep learning in software defect...   \n\n                                         Source Title  \\\n0                 INFORMATION AND SOFTWARE TECHNOLOGY   \n53                     ARTIFICIAL INTELLIGENCE REVIEW   \n56                                     SYMMETRY-BASEL   \n99                     EMPIRICAL SOFTWARE ENGINEERING   \n125  ARCHIVES OF COMPUTATIONAL METHODS IN ENGINEERING   \n135                    ARTIFICIAL INTELLIGENCE REVIEW   \n136                   JOURNAL OF SYSTEMS AND SOFTWARE   \n\n                              DOI  Publication Year  \\\n0    10.1016/j.infsof.2013.02.009              2013   \n53      10.1007/s10462-017-9563-5              2019   \n56            10.3390/sym11020212              2019   \n99     10.1007/s10664-021-09991-3              2021   \n125    10.1007/s11831-022-09787-8              2022   \n135    10.1007/s10462-022-10371-6              2022   \n136     10.1016/j.jss.2022.111537              2023   \n\n                                              Abstract  selection  \\\n0    Context: Software metrics may be used in fault...          3   \n53   Software fault prediction aims to identify fau...          3   \n56   Software defect prediction has been one of the...          3   \n99   In the past 20 years, defect prediction studie...          3   \n125  Software defect prediction (SDP) is a procedur...          3   \n135  Software fault prediction (SFP) aims to improv...          3   \n136  Context: Automated software defect prediction ...          3   \n\n                                                 notes  Times Cited, WoS Core  \\\n0    综述论文，对1991 ~ 2011年间发表的106篇论文进行系统的文献综述。所选论文根据指标...                  282.0   \n53   综述论文1993-2019本文旨在帮助理解与故障预测过程相关的各种要素，并探讨软件故障预测中...                   71.0   \n56    综述论文，我们使用多阶段过程执行系统映射来分析1995年至2018年可用的所有软件缺陷预测文献。                   42.0   \n99   综述论文，这项研究为类大小对OO度量和软件缺陷或缺陷倾向之间的关系的影响提供了一种新的深入的检查。                    3.0   \n125  综述论文，本文系统地调查了过去六年(2015-2020)使用深度学习(DL)技术进行SDP的文献。                    0.0   \n135  综述论文，在本文中，我们对SFP数据集中存在的数据质量问题进行了系统的文献综述。我们选择了截...                    0.0   \n136  综述论文，本研究的目的是系统地识别、分析、总结和综合文献中深度学习算法在SDP中的应用现状。...                    2.0   \n\n                                                 背景/动机  ...  \\\n0    模型的表现取决于建模的技术和所用的度量，建模技术之间的性能差异似乎是差不多的[38,30,6...  ...   \n53   没有合适的评估度量、数据集不平衡，此外，故障预测模型中软件度量的选择、环境对预测性能的影响、...  ...   \n56     1.当评价的目的是实践时，很难区分正确的理论和错误的理论。2. 鉴别优质文献与劣质文献的困难。  ...   \n99   同样，在本研究中，我们感兴趣的是研究OO度量是否受到类大小作为模型变量的间接影响(即，规模的...  ...   \n125                目前，机器学习(ML)领域的深度学习已经成为SDP领域的热门研究课题。  ...   \n135  软件故障预测(SFP)旨在以尽可能少的成本和时间提高软件质量。过去已经提出了各种机器学习模型...  ...   \n136  主要挑战是用更好的预测性能识别出源代码中的问题 手动提取特征浪费时间 很难从错误报告里抓取语义信息  ...   \n\n                                                   数据集  \\\n0                                        promise\\nNASA   \n53                                                 NaN   \n56                                                 NaN   \n99    作者用了之前人建的数据集，并从中选了规模比较大的一部分(D’Ambros et al. (...   \n125  Code4Bench、NASA MDP、AEEEM、Relink、CodeChef和Java...   \n135  值得注意的是，所选技术的有效性在很大程度上取决于实际用于研究的数据集。其中，PC1是所选ps...   \n136                                                NaN   \n\n                                                 数据集大小      数据集是否公开  \\\n0    大:多于250k行代码或1000个类\\n中:50k-250k或200-1000个类\\n小:少...  公开\\n半公开\\n私有   \n53                                                 NaN          NaN   \n56                                                 NaN          NaN   \n99                           DAMB:639826\\nJURE:1879894           公开   \n125                                                NaN          NaN   \n135  根据radjenovic等人(2013)的指导方针，我们将数据集的大小分为三类:大、中、小。...          NaN   \n136                                                NaN          NaN   \n\n    数据集所处的开发阶段                                            数据集编程语言  \\\n0       早期\\n完成                                          C++\\nJAVA   \n53         NaN                                                NaN   \n56         NaN                                                NaN   \n99        完成阶段                                               JAVA   \n125        NaN                                                NaN   \n135        NaN  数据集中最常用的编程语言是Java、C和c++。在192个数据集中，83个数据集使用Java...   \n136        NaN                                                NaN   \n\n                 建模技术      预测粒度               因变量  \\\n0           随机森林\\n。。。  文件级\\n语句级  故障数量\\n故障位置\\n故障密度   \n53                NaN       NaN               NaN   \n56                NaN       NaN               NaN   \n99                NaN       NaN        故障数量\\n故障倾向   \n125  CNN、RNN、LSTM和DNN       NaN               NaN   \n135               NaN       NaN               NaN   \n136               NaN       NaN               NaN   \n\n                                                  性能评估  \\\n0                                                  NaN   \n53                                                 NaN   \n56                                                 NaN   \n99                                                 NaN   \n125                                                NaN   \n135  采用了几种方法来评价各种SFP模块的性能。准确度、精密度、AuC、召回率和F-measure...   \n136                                                NaN   \n\n                                                  论文评价  \n0                                 系统总数，第一个系统评价软件度量的论文，  \n53   将故障预测特征分为度量。其中度量又分为产品和过程度量。这是站在传统机器学习角度，没有语义方面...  \n56   系统综述，解决了与DeP模型发展的不同阶段相对应的九个研究问题。探索了过程的各个方面。数据间...  \n99   中介和调节统计分析方法，评估类大小对OO度量和类缺陷之间关联的影响 本文采用的统计中介和调节...  \n125  介绍了2015-2020年的深度学习在软件故障预测上的应用，但是没有有效的对比这些特征处理和...  \n135          回答有关不同数据质量问题、预处理技术、数据集、应用的建模技术和性能衡量的五个问题。  \n136  系统综述了截止到2021年所有关于深度学习在软件故障预测上应用的文章，提及了源代码如何表示的...  \n\n[7 rows x 28 columns]",
      "text/html": "<div>\n<style scoped>\n    .dataframe tbody tr th:only-of-type {\n        vertical-align: middle;\n    }\n\n    .dataframe tbody tr th {\n        vertical-align: top;\n    }\n\n    .dataframe thead th {\n        text-align: right;\n    }\n</style>\n<table border=\"1\" class=\"dataframe\">\n  <thead>\n    <tr style=\"text-align: right;\">\n      <th></th>\n      <th>Authors</th>\n      <th>Article Title</th>\n      <th>Source Title</th>\n      <th>DOI</th>\n      <th>Publication Year</th>\n      <th>Abstract</th>\n      <th>selection</th>\n      <th>notes</th>\n      <th>Times Cited, WoS Core</th>\n      <th>背景/动机</th>\n      <th>...</th>\n      <th>数据集</th>\n      <th>数据集大小</th>\n      <th>数据集是否公开</th>\n      <th>数据集所处的开发阶段</th>\n      <th>数据集编程语言</th>\n      <th>建模技术</th>\n      <th>预测粒度</th>\n      <th>因变量</th>\n      <th>性能评估</th>\n      <th>论文评价</th>\n    </tr>\n  </thead>\n  <tbody>\n    <tr>\n      <th>0</th>\n      <td>Radjenovic, Danijel; Hericko, Marjan; Torkar, ...</td>\n      <td>Software fault prediction metrics: A systemati...</td>\n      <td>INFORMATION AND SOFTWARE TECHNOLOGY</td>\n      <td>10.1016/j.infsof.2013.02.009</td>\n      <td>2013</td>\n      <td>Context: Software metrics may be used in fault...</td>\n      <td>3</td>\n      <td>综述论文，对1991 ~ 2011年间发表的106篇论文进行系统的文献综述。所选论文根据指标...</td>\n      <td>282.0</td>\n      <td>模型的表现取决于建模的技术和所用的度量，建模技术之间的性能差异似乎是差不多的[38,30,6...</td>\n      <td>...</td>\n      <td>promise\\nNASA</td>\n      <td>大:多于250k行代码或1000个类\\n中:50k-250k或200-1000个类\\n小:少...</td>\n      <td>公开\\n半公开\\n私有</td>\n      <td>早期\\n完成</td>\n      <td>C++\\nJAVA</td>\n      <td>随机森林\\n。。。</td>\n      <td>文件级\\n语句级</td>\n      <td>故障数量\\n故障位置\\n故障密度</td>\n      <td>NaN</td>\n      <td>系统总数，第一个系统评价软件度量的论文，</td>\n    </tr>\n    <tr>\n      <th>53</th>\n      <td>Rathore, Santosh S.; Kumar, Sandeep</td>\n      <td>A study on software fault prediction techniques</td>\n      <td>ARTIFICIAL INTELLIGENCE REVIEW</td>\n      <td>10.1007/s10462-017-9563-5</td>\n      <td>2019</td>\n      <td>Software fault prediction aims to identify fau...</td>\n      <td>3</td>\n      <td>综述论文1993-2019本文旨在帮助理解与故障预测过程相关的各种要素，并探讨软件故障预测中...</td>\n      <td>71.0</td>\n      <td>没有合适的评估度量、数据集不平衡，此外，故障预测模型中软件度量的选择、环境对预测性能的影响、...</td>\n      <td>...</td>\n      <td>NaN</td>\n      <td>NaN</td>\n      <td>NaN</td>\n      <td>NaN</td>\n      <td>NaN</td>\n      <td>NaN</td>\n      <td>NaN</td>\n      <td>NaN</td>\n      <td>NaN</td>\n      <td>将故障预测特征分为度量。其中度量又分为产品和过程度量。这是站在传统机器学习角度，没有语义方面...</td>\n    </tr>\n    <tr>\n      <th>56</th>\n      <td>Le Hoang Son; Pritam, Nakul; Khari, Manju; Kum...</td>\n      <td>Empirical Study of Software Defect Prediction:...</td>\n      <td>SYMMETRY-BASEL</td>\n      <td>10.3390/sym11020212</td>\n      <td>2019</td>\n      <td>Software defect prediction has been one of the...</td>\n      <td>3</td>\n      <td>综述论文，我们使用多阶段过程执行系统映射来分析1995年至2018年可用的所有软件缺陷预测文献。</td>\n      <td>42.0</td>\n      <td>1.当评价的目的是实践时，很难区分正确的理论和错误的理论。2. 鉴别优质文献与劣质文献的困难。</td>\n      <td>...</td>\n      <td>NaN</td>\n      <td>NaN</td>\n      <td>NaN</td>\n      <td>NaN</td>\n      <td>NaN</td>\n      <td>NaN</td>\n      <td>NaN</td>\n      <td>NaN</td>\n      <td>NaN</td>\n      <td>系统综述，解决了与DeP模型发展的不同阶段相对应的九个研究问题。探索了过程的各个方面。数据间...</td>\n    </tr>\n    <tr>\n      <th>99</th>\n      <td>Tahir, Amjed; Bennin, Kwabena E.; Xiao, Xun; M...</td>\n      <td>Does class size matter? An in-depth assessment...</td>\n      <td>EMPIRICAL SOFTWARE ENGINEERING</td>\n      <td>10.1007/s10664-021-09991-3</td>\n      <td>2021</td>\n      <td>In the past 20 years, defect prediction studie...</td>\n      <td>3</td>\n      <td>综述论文，这项研究为类大小对OO度量和软件缺陷或缺陷倾向之间的关系的影响提供了一种新的深入的检查。</td>\n      <td>3.0</td>\n      <td>同样，在本研究中，我们感兴趣的是研究OO度量是否受到类大小作为模型变量的间接影响(即，规模的...</td>\n      <td>...</td>\n      <td>作者用了之前人建的数据集，并从中选了规模比较大的一部分(D’Ambros et al. (...</td>\n      <td>DAMB:639826\\nJURE:1879894</td>\n      <td>公开</td>\n      <td>完成阶段</td>\n      <td>JAVA</td>\n      <td>NaN</td>\n      <td>NaN</td>\n      <td>故障数量\\n故障倾向</td>\n      <td>NaN</td>\n      <td>中介和调节统计分析方法，评估类大小对OO度量和类缺陷之间关联的影响 本文采用的统计中介和调节...</td>\n    </tr>\n    <tr>\n      <th>125</th>\n      <td>Nevendra, Meetesh; Singh, Pradeep</td>\n      <td>A Survey of Software Defect Prediction Based o...</td>\n      <td>ARCHIVES OF COMPUTATIONAL METHODS IN ENGINEERING</td>\n      <td>10.1007/s11831-022-09787-8</td>\n      <td>2022</td>\n      <td>Software defect prediction (SDP) is a procedur...</td>\n      <td>3</td>\n      <td>综述论文，本文系统地调查了过去六年(2015-2020)使用深度学习(DL)技术进行SDP的文献。</td>\n      <td>0.0</td>\n      <td>目前，机器学习(ML)领域的深度学习已经成为SDP领域的热门研究课题。</td>\n      <td>...</td>\n      <td>Code4Bench、NASA MDP、AEEEM、Relink、CodeChef和Java...</td>\n      <td>NaN</td>\n      <td>NaN</td>\n      <td>NaN</td>\n      <td>NaN</td>\n      <td>CNN、RNN、LSTM和DNN</td>\n      <td>NaN</td>\n      <td>NaN</td>\n      <td>NaN</td>\n      <td>介绍了2015-2020年的深度学习在软件故障预测上的应用，但是没有有效的对比这些特征处理和...</td>\n    </tr>\n    <tr>\n      <th>135</th>\n      <td>Bhandari, Kirti; Kumar, Kuldeep; Sangal, Amrit...</td>\n      <td>Data quality issues in software fault predicti...</td>\n      <td>ARTIFICIAL INTELLIGENCE REVIEW</td>\n      <td>10.1007/s10462-022-10371-6</td>\n      <td>2022</td>\n      <td>Software fault prediction (SFP) aims to improv...</td>\n      <td>3</td>\n      <td>综述论文，在本文中，我们对SFP数据集中存在的数据质量问题进行了系统的文献综述。我们选择了截...</td>\n      <td>0.0</td>\n      <td>软件故障预测(SFP)旨在以尽可能少的成本和时间提高软件质量。过去已经提出了各种机器学习模型...</td>\n      <td>...</td>\n      <td>值得注意的是，所选技术的有效性在很大程度上取决于实际用于研究的数据集。其中，PC1是所选ps...</td>\n      <td>根据radjenovic等人(2013)的指导方针，我们将数据集的大小分为三类:大、中、小。...</td>\n      <td>NaN</td>\n      <td>NaN</td>\n      <td>数据集中最常用的编程语言是Java、C和c++。在192个数据集中，83个数据集使用Java...</td>\n      <td>NaN</td>\n      <td>NaN</td>\n      <td>NaN</td>\n      <td>采用了几种方法来评价各种SFP模块的性能。准确度、精密度、AuC、召回率和F-measure...</td>\n      <td>回答有关不同数据质量问题、预处理技术、数据集、应用的建模技术和性能衡量的五个问题。</td>\n    </tr>\n    <tr>\n      <th>136</th>\n      <td>Giray, Gorkem; Bennin, Kwabena Ebo; Koksal, Om...</td>\n      <td>On the use of deep learning in software defect...</td>\n      <td>JOURNAL OF SYSTEMS AND SOFTWARE</td>\n      <td>10.1016/j.jss.2022.111537</td>\n      <td>2023</td>\n      <td>Context: Automated software defect prediction ...</td>\n      <td>3</td>\n      <td>综述论文，本研究的目的是系统地识别、分析、总结和综合文献中深度学习算法在SDP中的应用现状。...</td>\n      <td>2.0</td>\n      <td>主要挑战是用更好的预测性能识别出源代码中的问题 手动提取特征浪费时间 很难从错误报告里抓取语义信息</td>\n      <td>...</td>\n      <td>NaN</td>\n      <td>NaN</td>\n      <td>NaN</td>\n      <td>NaN</td>\n      <td>NaN</td>\n      <td>NaN</td>\n      <td>NaN</td>\n      <td>NaN</td>\n      <td>NaN</td>\n      <td>系统综述了截止到2021年所有关于深度学习在软件故障预测上应用的文章，提及了源代码如何表示的...</td>\n    </tr>\n  </tbody>\n</table>\n<p>7 rows × 28 columns</p>\n</div>"
     },
     "execution_count": 26,
     "metadata": {},
     "output_type": "execute_result"
    }
   ],
   "source": [
    "data"
   ],
   "metadata": {
    "collapsed": false
   }
  },
  {
   "cell_type": "code",
   "execution_count": null,
   "outputs": [],
   "source": [],
   "metadata": {
    "collapsed": false
   }
  }
 ],
 "metadata": {
  "kernelspec": {
   "display_name": "Python 3",
   "language": "python",
   "name": "python3"
  },
  "language_info": {
   "codemirror_mode": {
    "name": "ipython",
    "version": 2
   },
   "file_extension": ".py",
   "mimetype": "text/x-python",
   "name": "python",
   "nbconvert_exporter": "python",
   "pygments_lexer": "ipython2",
   "version": "2.7.6"
  }
 },
 "nbformat": 4,
 "nbformat_minor": 0
}
